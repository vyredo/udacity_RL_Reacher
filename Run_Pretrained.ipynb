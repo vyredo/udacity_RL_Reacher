{
 "cells": [
  {
   "cell_type": "markdown",
   "metadata": {},
   "source": [
    "### Run below scripts to open udacity Reacher with pretrained model"
   ]
  },
  {
   "cell_type": "code",
   "execution_count": 1,
   "metadata": {},
   "outputs": [
    {
     "name": "stdout",
     "output_type": "stream",
     "text": [
      "Found path: /home/vidy/RL_Reacher/Reacher.x86_64\n",
      "Mono path[0] = '/home/vidy/RL_Reacher/Reacher_Data/Managed'\n",
      "Mono config path = '/home/vidy/RL_Reacher/Reacher_Data/MonoBleedingEdge/etc'\n",
      "Preloaded 'ScreenSelector.so'\n",
      "Preloaded 'libgrpc_csharp_ext.x64.so'\n",
      "Unable to preload the following plugins:\n",
      "\tScreenSelector.so\n",
      "\tlibgrpc_csharp_ext.x86.so\n",
      "Logging to /home/vidy/.config/unity3d/Unity Technologies/Unity Environment/Player.log\n"
     ]
    },
    {
     "name": "stderr",
     "output_type": "stream",
     "text": [
      "INFO:unityagents:\n",
      "'Academy' started successfully!\n",
      "Unity Academy name: Academy\n",
      "        Number of Brains: 1\n",
      "        Number of External Brains : 1\n",
      "        Lesson number : 0\n",
      "        Reset Parameters :\n",
      "\t\tgoal_speed -> 1.0\n",
      "\t\tgoal_size -> 5.0\n",
      "Unity brain name: ReacherBrain\n",
      "        Number of Visual Observations (per agent): 0\n",
      "        Vector Observation space type: continuous\n",
      "        Vector Observation space size (per agent): 33\n",
      "        Number of stacked Vector Observation: 1\n",
      "        Vector Action space type: continuous\n",
      "        Vector Action space size (per agent): 4\n",
      "        Vector Action descriptions: , , , \n"
     ]
    },
    {
     "name": "stdout",
     "output_type": "stream",
     "text": [
      "There are 20 agents. Each observes a state with length: 33\n",
      "The state for the first agent looks like: [ 0.00000000e+00 -4.00000000e+00  0.00000000e+00  1.00000000e+00\n",
      " -0.00000000e+00 -0.00000000e+00 -4.37113883e-08  0.00000000e+00\n",
      "  0.00000000e+00  0.00000000e+00  0.00000000e+00  0.00000000e+00\n",
      "  0.00000000e+00  0.00000000e+00 -1.00000000e+01  0.00000000e+00\n",
      "  1.00000000e+00 -0.00000000e+00 -0.00000000e+00 -4.37113883e-08\n",
      "  0.00000000e+00  0.00000000e+00  0.00000000e+00  0.00000000e+00\n",
      "  0.00000000e+00  0.00000000e+00  5.75471878e+00 -1.00000000e+00\n",
      "  5.55726624e+00  0.00000000e+00  1.00000000e+00  0.00000000e+00\n",
      " -1.68164849e-01]\n"
     ]
    }
   ],
   "source": [
    "from unityagents import UnityEnvironment\n",
    "import numpy as np\n",
    "import torch\n",
    "from ActorCritic import Actor, Critic  \n",
    "\n",
    "# Load the Unity environment (ONLY LINUX)\n",
    "# Replace the file for MacOS and Windows\n",
    "env = UnityEnvironment(file_name=\"Reacher.x86_64\")\n",
    "\n",
    "brain_name = env.brain_names[0]\n",
    "brain = env.brains[brain_name]\n",
    "env_info = env.reset(train_mode=False)[brain_name]\n",
    "num_agents = len(env_info.agents)\n",
    "action_size = brain.vector_action_space_size\n",
    "\n",
    "# examine the state space \n",
    "states = env_info.vector_observations\n",
    "state_size = states.shape[1]\n",
    "print('There are {} agents. Each observes a state with length: {}'.format(states.shape[0], state_size))\n",
    "print('The state for the first agent looks like:', states[0])"
   ]
  },
  {
   "cell_type": "markdown",
   "metadata": {},
   "source": [
    "### Load Pretrained Model"
   ]
  },
  {
   "cell_type": "code",
   "execution_count": 2,
   "metadata": {},
   "outputs": [
    {
     "name": "stdout",
     "output_type": "stream",
     "text": [
      "Pretrained model loaded successfully!\n"
     ]
    }
   ],
   "source": [
    "seed = 0\n",
    "\n",
    "actor = Actor(state_size, action_size, seed)\n",
    "critic = Critic(state_size, action_size, seed)\n",
    "\n",
    "# Load the pretrained weights\n",
    "actor.load_state_dict(torch.load(\"Report/actor.pth\", map_location=torch.device('cpu')))\n",
    "critic.load_state_dict(torch.load(\"Report/critic.pth\", map_location=torch.device('cpu')))\n",
    "\n",
    "print(\"Pretrained model loaded successfully!\")"
   ]
  },
  {
   "cell_type": "code",
   "execution_count": 3,
   "metadata": {},
   "outputs": [
    {
     "name": "stdout",
     "output_type": "stream",
     "text": [
      "Scores: [38.43999914 33.30999926 32.67999927 36.74999918 38.63999914 39.42999912\n",
      " 35.5899992  29.21999935 35.41999921 39.56999912 38.38999914 32.62999927\n",
      " 36.90999917 37.96999915 28.15999937 29.83999933 38.92999913 35.52999921\n",
      " 27.17999939 31.81999929]\n"
     ]
    }
   ],
   "source": [
    "# Test the pretrained model\n",
    "env_info = env.reset(train_mode=False)[brain_name]  # Reset the environment\n",
    "states = env_info.vector_observations  # Get initial states for all agents\n",
    "scores = np.zeros(20)  # Initialize scores for 20 agents\n",
    "\n",
    "while True:\n",
    "    # Get actions for all agents\n",
    "    states_tensor = torch.from_numpy(states).float()\n",
    "    actions = actor(states_tensor).detach().numpy()\n",
    "    actions = np.clip(actions, -1, 1)  # Clip actions to valid range [-1, 1]\n",
    "\n",
    "    # Take actions in the environment\n",
    "    env_info = env.step(actions)[brain_name]\n",
    "    next_states = env_info.vector_observations  # Get next states for all agents\n",
    "    rewards = env_info.rewards  # Get rewards for all agents\n",
    "    dones = env_info.local_done  # Check if any agent is done\n",
    "    scores += rewards  # Update scores\n",
    "\n",
    "    states = next_states  # Transition to the next state\n",
    "\n",
    "    if np.any(dones):  # If any agent is done, exit loop\n",
    "        print(f\"Scores: {scores}\")\n",
    "        break\n",
    "\n",
    "env.close()\n"
   ]
  },
  {
   "cell_type": "code",
   "execution_count": null,
   "metadata": {},
   "outputs": [],
   "source": []
  }
 ],
 "metadata": {
  "kernelspec": {
   "display_name": "py310",
   "language": "python",
   "name": "python3"
  },
  "language_info": {
   "codemirror_mode": {
    "name": "ipython",
    "version": 3
   },
   "file_extension": ".py",
   "mimetype": "text/x-python",
   "name": "python",
   "nbconvert_exporter": "python",
   "pygments_lexer": "ipython3",
   "version": "3.10.12"
  }
 },
 "nbformat": 4,
 "nbformat_minor": 2
}
